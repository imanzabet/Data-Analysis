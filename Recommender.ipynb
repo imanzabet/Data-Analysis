{
 "cells": [
  {
   "cell_type": "markdown",
   "metadata": {
    "collapsed": true
   },
   "source": [
    "## KickStarter Data Analysis\n",
    "In this project, a Recommender system will be built to show the successful projects and analyze them from different aspects of available data. In order to have a better understanding, a preprocessing and data cleaning will be done before starting data analysis."
   ]
  },
  {
   "cell_type": "code",
   "execution_count": 13,
   "metadata": {
    "collapsed": true
   },
   "outputs": [],
   "source": [
    "import csv\n",
    "import pandas as pd\n",
    "import numpy as np\n",
    "import matplotlib.pyplot as plt\n",
    "import zipfile\n",
    "%matplotlib inline"
   ]
  },
  {
   "cell_type": "markdown",
   "metadata": {},
   "source": [
    "#### Reading data\n",
    "First we need to read data from CSV file and will print the first 5 rows of table to see each column header"
   ]
  },
  {
   "cell_type": "code",
   "execution_count": 14,
   "metadata": {},
   "outputs": [
    {
     "name": "stdout",
     "output_type": "stream",
     "text": [
      "(45957, 17)\n"
     ]
    },
    {
     "data": {
      "text/html": [
       "<div>\n",
       "<style>\n",
       "    .dataframe thead tr:only-child th {\n",
       "        text-align: right;\n",
       "    }\n",
       "\n",
       "    .dataframe thead th {\n",
       "        text-align: left;\n",
       "    }\n",
       "\n",
       "    .dataframe tbody tr th {\n",
       "        vertical-align: top;\n",
       "    }\n",
       "</style>\n",
       "<table border=\"1\" class=\"dataframe\">\n",
       "  <thead>\n",
       "    <tr style=\"text-align: right;\">\n",
       "      <th></th>\n",
       "      <th>project id</th>\n",
       "      <th>name</th>\n",
       "      <th>url</th>\n",
       "      <th>category</th>\n",
       "      <th>subcategory</th>\n",
       "      <th>location</th>\n",
       "      <th>status</th>\n",
       "      <th>goal</th>\n",
       "      <th>pledged</th>\n",
       "      <th>funded percentage</th>\n",
       "      <th>backers</th>\n",
       "      <th>funded date</th>\n",
       "      <th>levels</th>\n",
       "      <th>reward levels</th>\n",
       "      <th>updates</th>\n",
       "      <th>comments</th>\n",
       "      <th>duration</th>\n",
       "    </tr>\n",
       "  </thead>\n",
       "  <tbody>\n",
       "    <tr>\n",
       "      <th>0</th>\n",
       "      <td>39409</td>\n",
       "      <td>WHILE THE TREES SLEEP</td>\n",
       "      <td>http://www.kickstarter.com/projects/emiliesaba...</td>\n",
       "      <td>Film &amp; Video</td>\n",
       "      <td>Short Film</td>\n",
       "      <td>Columbia, MO</td>\n",
       "      <td>successful</td>\n",
       "      <td>10500.0</td>\n",
       "      <td>11545.0</td>\n",
       "      <td>1.099524</td>\n",
       "      <td>66</td>\n",
       "      <td>Fri, 19 Aug 2011 19:28:17 -0000</td>\n",
       "      <td>7</td>\n",
       "      <td>$25,$50,$100,$250,$500,$1,000,$2,500</td>\n",
       "      <td>10</td>\n",
       "      <td>2</td>\n",
       "      <td>30.00</td>\n",
       "    </tr>\n",
       "    <tr>\n",
       "      <th>1</th>\n",
       "      <td>126581</td>\n",
       "      <td>Educational Online Trading Card Game</td>\n",
       "      <td>http://www.kickstarter.com/projects/972789543/...</td>\n",
       "      <td>Games</td>\n",
       "      <td>Board &amp; Card Games</td>\n",
       "      <td>Maplewood, NJ</td>\n",
       "      <td>failed</td>\n",
       "      <td>4000.0</td>\n",
       "      <td>20.0</td>\n",
       "      <td>0.005000</td>\n",
       "      <td>2</td>\n",
       "      <td>Mon, 02 Aug 2010 03:59:00 -0000</td>\n",
       "      <td>5</td>\n",
       "      <td>$1,$5,$10,$25,$50</td>\n",
       "      <td>6</td>\n",
       "      <td>0</td>\n",
       "      <td>47.18</td>\n",
       "    </tr>\n",
       "    <tr>\n",
       "      <th>2</th>\n",
       "      <td>138119</td>\n",
       "      <td>STRUM</td>\n",
       "      <td>http://www.kickstarter.com/projects/185476022/...</td>\n",
       "      <td>Film &amp; Video</td>\n",
       "      <td>Animation</td>\n",
       "      <td>Los Angeles, CA</td>\n",
       "      <td>live</td>\n",
       "      <td>20000.0</td>\n",
       "      <td>56.0</td>\n",
       "      <td>0.002800</td>\n",
       "      <td>3</td>\n",
       "      <td>Fri, 08 Jun 2012 00:00:31 -0000</td>\n",
       "      <td>10</td>\n",
       "      <td>$1,$10,$25,$40,$50,$100,$250,$1,000,$1,337,$9,001</td>\n",
       "      <td>1</td>\n",
       "      <td>0</td>\n",
       "      <td>28.00</td>\n",
       "    </tr>\n",
       "    <tr>\n",
       "      <th>3</th>\n",
       "      <td>237090</td>\n",
       "      <td>GETTING OVER - One son's search to finally kno...</td>\n",
       "      <td>http://www.kickstarter.com/projects/charnick/g...</td>\n",
       "      <td>Film &amp; Video</td>\n",
       "      <td>Documentary</td>\n",
       "      <td>Los Angeles, CA</td>\n",
       "      <td>successful</td>\n",
       "      <td>6000.0</td>\n",
       "      <td>6535.0</td>\n",
       "      <td>1.089167</td>\n",
       "      <td>100</td>\n",
       "      <td>Sun, 08 Apr 2012 02:14:00 -0000</td>\n",
       "      <td>13</td>\n",
       "      <td>$1,$10,$25,$30,$50,$75,$85,$100,$110,$250,$500...</td>\n",
       "      <td>4</td>\n",
       "      <td>0</td>\n",
       "      <td>32.22</td>\n",
       "    </tr>\n",
       "    <tr>\n",
       "      <th>4</th>\n",
       "      <td>246101</td>\n",
       "      <td>The Launch of FlyeGrlRoyalty &amp;quot;The New Nam...</td>\n",
       "      <td>http://www.kickstarter.com/projects/flyegrlroy...</td>\n",
       "      <td>Fashion</td>\n",
       "      <td>Fashion</td>\n",
       "      <td>Novi, MI</td>\n",
       "      <td>failed</td>\n",
       "      <td>3500.0</td>\n",
       "      <td>0.0</td>\n",
       "      <td>0.000000</td>\n",
       "      <td>0</td>\n",
       "      <td>Wed, 01 Jun 2011 15:25:39 -0000</td>\n",
       "      <td>6</td>\n",
       "      <td>$10,$25,$50,$100,$150,$250</td>\n",
       "      <td>2</td>\n",
       "      <td>0</td>\n",
       "      <td>30.00</td>\n",
       "    </tr>\n",
       "  </tbody>\n",
       "</table>\n",
       "</div>"
      ],
      "text/plain": [
       "   project id                                               name  \\\n",
       "0       39409                              WHILE THE TREES SLEEP   \n",
       "1      126581               Educational Online Trading Card Game   \n",
       "2      138119                                              STRUM   \n",
       "3      237090  GETTING OVER - One son's search to finally kno...   \n",
       "4      246101  The Launch of FlyeGrlRoyalty &quot;The New Nam...   \n",
       "\n",
       "                                                 url      category  \\\n",
       "0  http://www.kickstarter.com/projects/emiliesaba...  Film & Video   \n",
       "1  http://www.kickstarter.com/projects/972789543/...         Games   \n",
       "2  http://www.kickstarter.com/projects/185476022/...  Film & Video   \n",
       "3  http://www.kickstarter.com/projects/charnick/g...  Film & Video   \n",
       "4  http://www.kickstarter.com/projects/flyegrlroy...       Fashion   \n",
       "\n",
       "          subcategory         location      status     goal  pledged  \\\n",
       "0          Short Film     Columbia, MO  successful  10500.0  11545.0   \n",
       "1  Board & Card Games    Maplewood, NJ      failed   4000.0     20.0   \n",
       "2           Animation  Los Angeles, CA        live  20000.0     56.0   \n",
       "3         Documentary  Los Angeles, CA  successful   6000.0   6535.0   \n",
       "4             Fashion         Novi, MI      failed   3500.0      0.0   \n",
       "\n",
       "   funded percentage  backers                      funded date  levels  \\\n",
       "0           1.099524       66  Fri, 19 Aug 2011 19:28:17 -0000       7   \n",
       "1           0.005000        2  Mon, 02 Aug 2010 03:59:00 -0000       5   \n",
       "2           0.002800        3  Fri, 08 Jun 2012 00:00:31 -0000      10   \n",
       "3           1.089167      100  Sun, 08 Apr 2012 02:14:00 -0000      13   \n",
       "4           0.000000        0  Wed, 01 Jun 2011 15:25:39 -0000       6   \n",
       "\n",
       "                                       reward levels  updates  comments  \\\n",
       "0               $25,$50,$100,$250,$500,$1,000,$2,500       10         2   \n",
       "1                                  $1,$5,$10,$25,$50        6         0   \n",
       "2  $1,$10,$25,$40,$50,$100,$250,$1,000,$1,337,$9,001        1         0   \n",
       "3  $1,$10,$25,$30,$50,$75,$85,$100,$110,$250,$500...        4         0   \n",
       "4                         $10,$25,$50,$100,$150,$250        2         0   \n",
       "\n",
       "   duration  \n",
       "0     30.00  \n",
       "1     47.18  \n",
       "2     28.00  \n",
       "3     32.22  \n",
       "4     30.00  "
      ]
     },
     "execution_count": 14,
     "metadata": {},
     "output_type": "execute_result"
    }
   ],
   "source": [
    "with zipfile.ZipFile(\"KickStarter.zip\") as z:\n",
    "    with z.open(\"KickStarter.csv\") as f:\n",
    "        df = pd.read_csv('KickStarter.csv', encoding = \"ISO-8859-1\")\n",
    "print(df.shape)\n",
    "df.head()"
   ]
  },
  {
   "cell_type": "markdown",
   "metadata": {},
   "source": [
    "### Preprocessing and data cleaning\n",
    "Now, we need to clean the noise and unuseful/unreal data from our dataset in order to have a better understaning"
   ]
  },
  {
   "cell_type": "code",
   "execution_count": 19,
   "metadata": {},
   "outputs": [
    {
     "name": "stdout",
     "output_type": "stream",
     "text": [
      "(41778, 17)\n"
     ]
    },
    {
     "name": "stderr",
     "output_type": "stream",
     "text": [
      "C:\\Users\\Immanuel\\Anaconda3\\lib\\site-packages\\ipykernel_launcher.py:1: UserWarning: Boolean Series key will be reindexed to match DataFrame index.\n",
      "  \"\"\"Entry point for launching an IPython kernel.\n"
     ]
    },
    {
     "data": {
      "text/html": [
       "<div>\n",
       "<style>\n",
       "    .dataframe thead tr:only-child th {\n",
       "        text-align: right;\n",
       "    }\n",
       "\n",
       "    .dataframe thead th {\n",
       "        text-align: left;\n",
       "    }\n",
       "\n",
       "    .dataframe tbody tr th {\n",
       "        vertical-align: top;\n",
       "    }\n",
       "</style>\n",
       "<table border=\"1\" class=\"dataframe\">\n",
       "  <thead>\n",
       "    <tr style=\"text-align: right;\">\n",
       "      <th></th>\n",
       "      <th>project id</th>\n",
       "      <th>name</th>\n",
       "      <th>url</th>\n",
       "      <th>category</th>\n",
       "      <th>subcategory</th>\n",
       "      <th>location</th>\n",
       "      <th>status</th>\n",
       "      <th>goal</th>\n",
       "      <th>pledged</th>\n",
       "      <th>funded percentage</th>\n",
       "      <th>backers</th>\n",
       "      <th>funded date</th>\n",
       "      <th>levels</th>\n",
       "      <th>reward levels</th>\n",
       "      <th>updates</th>\n",
       "      <th>comments</th>\n",
       "      <th>duration</th>\n",
       "    </tr>\n",
       "  </thead>\n",
       "  <tbody>\n",
       "    <tr>\n",
       "      <th>0</th>\n",
       "      <td>39409</td>\n",
       "      <td>WHILE THE TREES SLEEP</td>\n",
       "      <td>http://www.kickstarter.com/projects/emiliesaba...</td>\n",
       "      <td>Film &amp; Video</td>\n",
       "      <td>Short Film</td>\n",
       "      <td>Columbia, MO</td>\n",
       "      <td>successful</td>\n",
       "      <td>10500.0</td>\n",
       "      <td>11545.0</td>\n",
       "      <td>1.099524</td>\n",
       "      <td>66</td>\n",
       "      <td>Fri, 19 Aug 2011 19:28:17 -0000</td>\n",
       "      <td>7</td>\n",
       "      <td>$25,$50,$100,$250,$500,$1,000,$2,500</td>\n",
       "      <td>10</td>\n",
       "      <td>2</td>\n",
       "      <td>30.00</td>\n",
       "    </tr>\n",
       "    <tr>\n",
       "      <th>1</th>\n",
       "      <td>126581</td>\n",
       "      <td>Educational Online Trading Card Game</td>\n",
       "      <td>http://www.kickstarter.com/projects/972789543/...</td>\n",
       "      <td>Games</td>\n",
       "      <td>Board &amp; Card Games</td>\n",
       "      <td>Maplewood, NJ</td>\n",
       "      <td>failed</td>\n",
       "      <td>4000.0</td>\n",
       "      <td>20.0</td>\n",
       "      <td>0.005000</td>\n",
       "      <td>2</td>\n",
       "      <td>Mon, 02 Aug 2010 03:59:00 -0000</td>\n",
       "      <td>5</td>\n",
       "      <td>$1,$5,$10,$25,$50</td>\n",
       "      <td>6</td>\n",
       "      <td>0</td>\n",
       "      <td>47.18</td>\n",
       "    </tr>\n",
       "    <tr>\n",
       "      <th>2</th>\n",
       "      <td>138119</td>\n",
       "      <td>STRUM</td>\n",
       "      <td>http://www.kickstarter.com/projects/185476022/...</td>\n",
       "      <td>Film &amp; Video</td>\n",
       "      <td>Animation</td>\n",
       "      <td>Los Angeles, CA</td>\n",
       "      <td>live</td>\n",
       "      <td>20000.0</td>\n",
       "      <td>56.0</td>\n",
       "      <td>0.002800</td>\n",
       "      <td>3</td>\n",
       "      <td>Fri, 08 Jun 2012 00:00:31 -0000</td>\n",
       "      <td>10</td>\n",
       "      <td>$1,$10,$25,$40,$50,$100,$250,$1,000,$1,337,$9,001</td>\n",
       "      <td>1</td>\n",
       "      <td>0</td>\n",
       "      <td>28.00</td>\n",
       "    </tr>\n",
       "    <tr>\n",
       "      <th>3</th>\n",
       "      <td>237090</td>\n",
       "      <td>GETTING OVER - One son's search to finally kno...</td>\n",
       "      <td>http://www.kickstarter.com/projects/charnick/g...</td>\n",
       "      <td>Film &amp; Video</td>\n",
       "      <td>Documentary</td>\n",
       "      <td>Los Angeles, CA</td>\n",
       "      <td>successful</td>\n",
       "      <td>6000.0</td>\n",
       "      <td>6535.0</td>\n",
       "      <td>1.089167</td>\n",
       "      <td>100</td>\n",
       "      <td>Sun, 08 Apr 2012 02:14:00 -0000</td>\n",
       "      <td>13</td>\n",
       "      <td>$1,$10,$25,$30,$50,$75,$85,$100,$110,$250,$500...</td>\n",
       "      <td>4</td>\n",
       "      <td>0</td>\n",
       "      <td>32.22</td>\n",
       "    </tr>\n",
       "    <tr>\n",
       "      <th>4</th>\n",
       "      <td>246101</td>\n",
       "      <td>The Launch of FlyeGrlRoyalty &amp;quot;The New Nam...</td>\n",
       "      <td>http://www.kickstarter.com/projects/flyegrlroy...</td>\n",
       "      <td>Fashion</td>\n",
       "      <td>Fashion</td>\n",
       "      <td>Novi, MI</td>\n",
       "      <td>failed</td>\n",
       "      <td>3500.0</td>\n",
       "      <td>0.0</td>\n",
       "      <td>0.000000</td>\n",
       "      <td>0</td>\n",
       "      <td>Wed, 01 Jun 2011 15:25:39 -0000</td>\n",
       "      <td>6</td>\n",
       "      <td>$10,$25,$50,$100,$150,$250</td>\n",
       "      <td>2</td>\n",
       "      <td>0</td>\n",
       "      <td>30.00</td>\n",
       "    </tr>\n",
       "  </tbody>\n",
       "</table>\n",
       "</div>"
      ],
      "text/plain": [
       "   project id                                               name  \\\n",
       "0       39409                              WHILE THE TREES SLEEP   \n",
       "1      126581               Educational Online Trading Card Game   \n",
       "2      138119                                              STRUM   \n",
       "3      237090  GETTING OVER - One son's search to finally kno...   \n",
       "4      246101  The Launch of FlyeGrlRoyalty &quot;The New Nam...   \n",
       "\n",
       "                                                 url      category  \\\n",
       "0  http://www.kickstarter.com/projects/emiliesaba...  Film & Video   \n",
       "1  http://www.kickstarter.com/projects/972789543/...         Games   \n",
       "2  http://www.kickstarter.com/projects/185476022/...  Film & Video   \n",
       "3  http://www.kickstarter.com/projects/charnick/g...  Film & Video   \n",
       "4  http://www.kickstarter.com/projects/flyegrlroy...       Fashion   \n",
       "\n",
       "          subcategory         location      status     goal  pledged  \\\n",
       "0          Short Film     Columbia, MO  successful  10500.0  11545.0   \n",
       "1  Board & Card Games    Maplewood, NJ      failed   4000.0     20.0   \n",
       "2           Animation  Los Angeles, CA        live  20000.0     56.0   \n",
       "3         Documentary  Los Angeles, CA  successful   6000.0   6535.0   \n",
       "4             Fashion         Novi, MI      failed   3500.0      0.0   \n",
       "\n",
       "   funded percentage  backers                      funded date  levels  \\\n",
       "0           1.099524       66  Fri, 19 Aug 2011 19:28:17 -0000       7   \n",
       "1           0.005000        2  Mon, 02 Aug 2010 03:59:00 -0000       5   \n",
       "2           0.002800        3  Fri, 08 Jun 2012 00:00:31 -0000      10   \n",
       "3           1.089167      100  Sun, 08 Apr 2012 02:14:00 -0000      13   \n",
       "4           0.000000        0  Wed, 01 Jun 2011 15:25:39 -0000       6   \n",
       "\n",
       "                                       reward levels  updates  comments  \\\n",
       "0               $25,$50,$100,$250,$500,$1,000,$2,500       10         2   \n",
       "1                                  $1,$5,$10,$25,$50        6         0   \n",
       "2  $1,$10,$25,$40,$50,$100,$250,$1,000,$1,337,$9,001        1         0   \n",
       "3  $1,$10,$25,$30,$50,$75,$85,$100,$110,$250,$500...        4         0   \n",
       "4                         $10,$25,$50,$100,$150,$250        2         0   \n",
       "\n",
       "   duration  \n",
       "0     30.00  \n",
       "1     47.18  \n",
       "2     28.00  \n",
       "3     32.22  \n",
       "4     30.00  "
      ]
     },
     "execution_count": 19,
     "metadata": {},
     "output_type": "execute_result"
    }
   ],
   "source": [
    "dfc = df[df['goal'] >= 100][df['goal'] <= 20000]\n",
    "\n",
    "print(dfc.shape)\n",
    "dfc.head()"
   ]
  },
  {
   "cell_type": "markdown",
   "metadata": {},
   "source": [
    "### Define categories of projects\n",
    "Here the categories of projects will be extracted and shown"
   ]
  },
  {
   "cell_type": "code",
   "execution_count": 20,
   "metadata": {},
   "outputs": [
    {
     "name": "stdout",
     "output_type": "stream",
     "text": [
      "The categories are:  ['Film & Video' 'Games' 'Fashion' 'Music' 'Art' 'Technology' 'Dance'\n",
      " 'Publishing' 'Theater' 'Comics' 'Design' 'Photography' 'Food'\n",
      " 'Film &amp; Video']\n"
     ]
    }
   ],
   "source": [
    "################ Extract categories  ##############\n",
    "cat_list = df['category'].unique()\n",
    "print('The categories are: ', cat_list)"
   ]
  },
  {
   "cell_type": "markdown",
   "metadata": {},
   "source": [
    "### Plot and analyze Successful projects\n",
    "In this section we try to see the successful projects from different perspectives, such as \"duration\" and \"funded percentage\""
   ]
  },
  {
   "cell_type": "code",
   "execution_count": 21,
   "metadata": {},
   "outputs": [
    {
     "data": {
      "image/png": "[encoded data removed]",
      "text/plain": [
       "<matplotlib.figure.Figure at 0x2709aa324e0>"
      ]
     },
     "metadata": {},
     "output_type": "display_data"
    },
    {
     "data": {
      "image/png": "[encoded data removed]",
      "text/plain": [
       "<matplotlib.figure.Figure at 0x2709ef32128>"
      ]
     },
     "metadata": {},
     "output_type": "display_data"
    },
    {
     "data": {
      "image/png": "[encoded data removed]",
      "text/plain": [
       "<matplotlib.figure.Figure at 0x2709aafd8d0>"
      ]
     },
     "metadata": {},
     "output_type": "display_data"
    },
    {
     "data": {
      "image/png": "[encoded data removed]",
      "text/plain": [
       "<matplotlib.figure.Figure at 0x2709f114e10>"
      ]
     },
     "metadata": {},
     "output_type": "display_data"
    }
   ],
   "source": [
    "#############  Plot  ######\n",
    "plt.figure();\n",
    "\n",
    "df['duration'].plot.hist(alpha=0.5, bins=10)\n",
    "plt.xlabel('')\n",
    "plt.title('Histogram for \"duration\"')\n",
    "plt.show()\n",
    "\n",
    "df['duration'][df['status'] == 'successful'].plot.hist(alpha=0.5, bins=10)\n",
    "plt.xlabel('')\n",
    "plt.title('Histogram for \"successful duration\"')\n",
    "plt.show()\n",
    "\n",
    "df['goal'][df['goal'] >= 100][df['goal'] <= 20000][df['funded percentage'] >= 1.0].plot.hist(alpha=0.5, bins=50)\n",
    "plt.xlabel('')\n",
    "plt.title('Histogram for \"goal\" with funded percentage>=1.0')\n",
    "plt.show()\n",
    "\n",
    "df['goal'][df['goal'] >= 100][df['goal'] <= 20000][df['funded percentage'] >= 50].plot.hist(alpha=0.5, bins=50)\n",
    "plt.xlabel('')\n",
    "plt.title('Histogram for \"goal\" with funded percentage>=50.0')\n",
    "plt.show()"
   ]
  },
  {
   "cell_type": "markdown",
   "metadata": {},
   "source": [
    "In this section we are going to analyze each \"category\" successful project. In order to do that, we need to extract number of successful project per each category and then plot the histograam"
   ]
  },
  {
   "cell_type": "code",
   "execution_count": 22,
   "metadata": {
    "scrolled": false
   },
   "outputs": [
    {
     "data": {
      "image/png": "[encoded data removed]",
      "text/plain": [
       "<matplotlib.figure.Figure at 0x2709ed154a8>"
      ]
     },
     "metadata": {},
     "output_type": "display_data"
    }
   ],
   "source": [
    "################  plot category histogram  #########\n",
    "d = {}\n",
    "# df['status'][df['category'] == 'Dance'][df['goal'] >= 100][df['goal'] <= 20000].plot.hist(alpha=0.5)\n",
    "for i in cat_list:\n",
    "    d[i] = df['status'][df['status'] == 'successful'][df['category'] == i][df['goal'] >= 100][df['goal'] <= 20000].value_counts()\n",
    "    \n",
    "plt.barh(range(len(d)), d.values(), align='center', alpha=0.8)\n",
    "plt.yticks(range(len(d)), d.keys())\n",
    "plt.xlabel('Numbers of Success')\n",
    "plt.title('Histogram for each category')\n",
    "plt.show()"
   ]
  },
  {
   "cell_type": "markdown",
   "metadata": {},
   "source": [
    "Here we are going to see the successful projects from \"Date/Time\" perspective. In this case we need to extract date and time of each project and show by year and by month"
   ]
  },
  {
   "cell_type": "code",
   "execution_count": 23,
   "metadata": {},
   "outputs": [
    {
     "data": {
      "image/png": "[encoded data removed]",
      "text/plain": [
       "<matplotlib.figure.Figure at 0x270a0543a20>"
      ]
     },
     "metadata": {},
     "output_type": "display_data"
    },
    {
     "data": {
      "image/png": "[encoded data removed]",
      "text/plain": [
       "<matplotlib.figure.Figure at 0x2709f149438>"
      ]
     },
     "metadata": {},
     "output_type": "display_data"
    }
   ],
   "source": [
    "####################  Plot Date   ################\n",
    "import datetime\n",
    "fmt = '%a, %d %b %Y %H:%M:%S'\n",
    "DY = {}\n",
    "DM = {}\n",
    "for list_string in df['funded date'][df['status'] == 'successful']:\n",
    "    list_string = list_string[:-6]\n",
    "    list_datetimes = datetime.datetime.strptime(list_string, fmt)\n",
    "    if list_datetimes.year not in DY:\n",
    "        DY[list_datetimes.year] = 1\n",
    "    DY[list_datetimes.year] = DY[list_datetimes.year] + 1\n",
    "    if list_datetimes.month not in DM:\n",
    "        DM[list_datetimes.month] = 1\n",
    "    DM[list_datetimes.month] = DM[list_datetimes.month] + 1\n",
    "plt.bar(range(len(DM)), DM.values(), align='center')\n",
    "plt.xticks(range(len(DM)), DM.keys())\n",
    "plt.title('Histogram for \"monthly\" view of succussful projects')\n",
    "plt.show()\n",
    "\n",
    "plt.bar(range(len(DY)), DY.values(), align='center')\n",
    "plt.xticks(range(len(DY)), DY.keys())\n",
    "plt.title('Histogram for \"yearly\" view of succussful projects')\n",
    "plt.show()"
   ]
  }
 ],
 "metadata": {
  "kernelspec": {
   "display_name": "Python 3",
   "language": "python",
   "name": "python3"
  },
  "language_info": {
   "codemirror_mode": {
    "name": "ipython",
    "version": 3
   },
   "file_extension": ".py",
   "mimetype": "text/x-python",
   "name": "python",
   "nbconvert_exporter": "python",
   "pygments_lexer": "ipython3",
   "version": "3.5.3"
  }
 },
 "nbformat": 4,
 "nbformat_minor": 1
}
